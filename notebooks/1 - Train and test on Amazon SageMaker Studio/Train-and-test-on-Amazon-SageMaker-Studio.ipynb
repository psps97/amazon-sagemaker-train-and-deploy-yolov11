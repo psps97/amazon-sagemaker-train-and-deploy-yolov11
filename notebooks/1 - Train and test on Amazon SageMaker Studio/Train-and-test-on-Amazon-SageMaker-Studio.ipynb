{
 "cells": [
  {
   "cell_type": "markdown",
   "id": "8b9f1aec",
   "metadata": {},
   "source": [
    "# Train and Test custom YOLOv11 on Amazon SageMaker Studio"
   ]
  },
  {
   "cell_type": "markdown",
   "id": "369a9b33-2052-4c57-aa4f-b4b26e1c1d62",
   "metadata": {},
   "source": [
    "In this notebook we will train and test a custom YOLOv11 object detection CV model within Amazon SageMaker Studio. \n",
    "\n",
    "**Steps:**\n",
    "\n",
    "### 0. Initial configuration.\n",
    "### 1. Download a labeled dataset.\n",
    "### 2. Data library in the yolov11 folder for our model to train\n",
    "### 3. Train the custom YOLOv11 model. \n"
   ]
  },
  {
   "cell_type": "markdown",
   "id": "1e59f9ec-43f8-4040-bebc-4423afdc4b04",
   "metadata": {},
   "source": [
    "| ⚠️ WARNING: For this notebook to work, make sure to select the following settings in your jupyter environment: |\n",
    "| -- |\n",
    "Image: \"PyTorch 1.10 Python 3.8 GPU Optimized\"\n",
    "Instance_type: \"ml.g4dn.xlarge\" (fast launch)"
   ]
  },
  {
   "cell_type": "markdown",
   "id": "356f3d22-a857-40b5-8cb5-3185dd353233",
   "metadata": {},
   "source": [
    "## 0. Initial Configuration (check cuda availability and run in the terminal)"
   ]
  },
  {
   "cell_type": "code",
   "execution_count": null,
   "id": "559f518d-38c6-4c39-8a30-b16f7bee0173",
   "metadata": {},
   "outputs": [],
   "source": [
    "##export CUDA_HOME=/usr/local/cuda\n",
    "##export LD_LIBRARY_PATH=$LD_LIBRARY_PATH:$CUDA_HOME/lib64:$CUDA_HOME/extras/CUPTI/lib64\n",
    "##export PATH=$PATH:$CUDA_HOME/bin\n",
    "##source ~/.bashrc\n",
    "\n",
    "\n",
    "##echo $CUDA_HOME\n",
    "##echo $LD_LIBRARY_PATH\n",
    "##echo $PATH\n",
    "\n",
    "##cuda버전 확인\n",
    "##nvcc --version\n"
   ]
  },
  {
   "cell_type": "markdown",
   "id": "cea75758-365c-41a4-b229-01bb7689848b",
   "metadata": {},
   "source": [
    "#### Download the YOLOv11 repository"
   ]
  },
  {
   "cell_type": "code",
   "execution_count": null,
   "id": "3b786198-5500-4fbe-bc2b-b36bbf109125",
   "metadata": {
    "tags": []
   },
   "outputs": [],
   "source": [
    "!git clone --quiet https://github.com/ultralytics/ultralytics"
   ]
  },
  {
   "cell_type": "code",
   "execution_count": null,
   "id": "bc188eb8-c621-404e-a0cf-bc9db2a4c00d",
   "metadata": {
    "scrolled": true,
    "tags": []
   },
   "outputs": [],
   "source": [
    "!pip install --no-input ultralytics"
   ]
  },
  {
   "cell_type": "code",
   "execution_count": null,
   "id": "11d160d6-3ab0-4a8a-acb7-869c175dfb29",
   "metadata": {},
   "outputs": [],
   "source": [
    "!pip install -U ultralytics"
   ]
  },
  {
   "cell_type": "code",
   "execution_count": null,
   "id": "dd4be8cb-417f-4269-b0c8-abc62063e737",
   "metadata": {},
   "outputs": [],
   "source": [
    "!conda install --yes -c conda-forge opencv"
   ]
  },
  {
   "cell_type": "code",
   "execution_count": null,
   "id": "a22293fe-b5c2-42c0-906a-add1fbf406e0",
   "metadata": {
    "tags": []
   },
   "outputs": [],
   "source": [
    "import os\n",
    "import boto3\n",
    "import glob\n",
    "s3_resource = boto3.resource('s3')"
   ]
  },
  {
   "cell_type": "markdown",
   "id": "cddd1da6-e457-4e2b-acf3-d085643aa8c3",
   "metadata": {},
   "source": [
    "## 1. Download a labeled dataset with YOLOv11 expected format."
   ]
  },
  {
   "cell_type": "markdown",
   "id": "cfefb767-e740-42e7-8b5b-5c30abeff17b",
   "metadata": {},
   "source": [
    "Before we train a custom YOLOv11 model, we need to have a labeled dataset. \n",
    "In the previous notebook \"0 - Label your dataset with Amazon SageMaker GroundTruth\" you will be able to label your own dataset and transform it into YOLOv11 expected format or use an example custom dataset. Once you have run through one of the two options you will have available the S3 dataset location and labels used."
   ]
  },
  {
   "cell_type": "code",
   "execution_count": null,
   "id": "3856bee1-e3ed-4304-b7de-3ee4417430a4",
   "metadata": {},
   "outputs": [],
   "source": [
    "#dataset_s3_uri = \"s3://sagemaker-us-west-2-986221661979/yolov5-process-2025-01-03-11-38-21-706/output/train/training_data\"\n",
    "#labels = ['car number']\n",
    "\n",
    "dataset_s3_uri = \"s3://sagemaker-us-west-2-986221661979/yolov11-process-2025-01-08-13-00-11-518/output/train/training_data\"\n",
    "labels = ['airplane', 'car', 'ferry', 'helicopter', 'motorbike']"
   ]
  },
  {
   "cell_type": "markdown",
   "id": "ee81a053-6502-453a-805a-5e640df0733f",
   "metadata": {},
   "source": [
    "#### Download the dataset"
   ]
  },
  {
   "cell_type": "code",
   "execution_count": null,
   "id": "7f2122a6-1c42-4ce7-b8d4-6e72a81475f2",
   "metadata": {},
   "outputs": [],
   "source": [
    "def split_s3_path(s3_path):\n",
    "    path_parts=s3_path.replace(\"s3://\",\"\").split(\"/\")\n",
    "    bucket=path_parts.pop(0)\n",
    "    key=\"/\".join(path_parts)\n",
    "    return bucket, key"
   ]
  },
  {
   "cell_type": "code",
   "execution_count": null,
   "id": "a6794fb3-de08-4527-8a73-683175121493",
   "metadata": {},
   "outputs": [],
   "source": [
    "bucket,dataset_name = split_s3_path(dataset_s3_uri)\n",
    "bucket,dataset_name"
   ]
  },
  {
   "cell_type": "code",
   "execution_count": null,
   "id": "e10c3229-ac6d-4cfc-9588-38b4431b92c4",
   "metadata": {},
   "outputs": [],
   "source": [
    "def download_dataset(bucket_name, folder):\n",
    "    bucket = s3_resource.Bucket(bucket_name) \n",
    "    for obj in bucket.objects.filter(Prefix = folder):\n",
    "        if not os.path.exists(os.path.dirname(obj.key)):\n",
    "            os.makedirs(os.path.dirname(obj.key))\n",
    "        bucket.download_file(obj.key, obj.key)"
   ]
  },
  {
   "cell_type": "code",
   "execution_count": null,
   "id": "32a60468-0295-42ed-93d0-2efef95a016c",
   "metadata": {},
   "outputs": [],
   "source": [
    "download_dataset(bucket, dataset_name)"
   ]
  },
  {
   "cell_type": "markdown",
   "id": "6edd94f5-f78a-44a7-8c7d-a23cd3cfe90e",
   "metadata": {},
   "source": [
    "#### Lets explore our dataset"
   ]
  },
  {
   "cell_type": "code",
   "execution_count": null,
   "id": "44534876-38eb-4c01-a0ed-1447911ae23e",
   "metadata": {},
   "outputs": [],
   "source": [
    "for filename in glob.iglob(dataset_name + '**/**', recursive=True):\n",
    "     print(filename)"
   ]
  },
  {
   "cell_type": "markdown",
   "id": "d388275f-d930-44ac-be59-cd9e1312c7a4",
   "metadata": {},
   "source": [
    "# Now let's add these data sources to the data library in the yolov11 folder for our model to train"
   ]
  },
  {
   "cell_type": "code",
   "execution_count": null,
   "id": "173b6a65-ab84-4444-ba85-079470c7bc88",
   "metadata": {},
   "outputs": [],
   "source": [
    "import os\n",
    "\n",
    "current_path = os.getcwd()\n",
    "print(\"현재 작업 디렉토리의 절대 경로:\", current_path)"
   ]
  },
  {
   "cell_type": "code",
   "execution_count": null,
   "id": "cc3e2bb1-6ab6-4cda-bdaf-d86e4dc791e9",
   "metadata": {},
   "outputs": [],
   "source": [
    "\n",
    "\n",
    "with open(\"coco8.yaml\", 'w') as target:\n",
    "    target.write(\"path: {}\\n\".format(current_path+\"/\"+dataset_name))\n",
    "    target.write(\"train: images/train\\n\")\n",
    "    target.write(\"val: images/validation\\n\")\n",
    "    target.write(\"names:\\n\")\n",
    "    for i, label in enumerate(labels):\n",
    "        target.write(\"  {}: {}\\n\".format(i, label))\n",
    "        \n",
    "with open('coco8.yaml') as file:\n",
    "    lines = file.readlines()\n",
    "    for line in lines:\n",
    "        print(line)"
   ]
  },
  {
   "cell_type": "markdown",
   "id": "be7b8fbd-ccdb-4440-af14-ea428bcc1cce",
   "metadata": {
    "tags": []
   },
   "source": [
    "# 3. Train the custom YOLOv11 model."
   ]
  },
  {
   "cell_type": "code",
   "execution_count": null,
   "id": "ee2f8907-0640-4aa0-a4b0-80b061b43659",
   "metadata": {
    "tags": []
   },
   "outputs": [],
   "source": [
    "from ultralytics import YOLO\n",
    "\n",
    "# Load a model\n",
    "#model = YOLO(\"yolo11n.pt\")\n",
    "model = YOLO(\"yolo11x.pt\")\n",
    "\n",
    "# Train the model\n",
    "train_results = model.train(\n",
    "    data=\"coco8.yaml\",  # path to dataset YAML\n",
    "    epochs=20,  # number of training epochs\n",
    "    imgsz=640,  # training image size\n",
    "    device=\"cuda\",  # device to run on, i.e. device=0 or device=0,1,2,3 or device=cpu\n",
    ")\n",
    "\n",
    "# Evaluate model performance on the validation set\n",
    "metrics = model.val()\n",
    "\n",
    "#model.save(\"best.pt\")\n"
   ]
  },
  {
   "cell_type": "code",
   "execution_count": null,
   "id": "10041e53-9d07-4636-a81e-af1ac71c0db8",
   "metadata": {
    "scrolled": true
   },
   "outputs": [],
   "source": [
    "#import cv2\n",
    "#import numpy as np\n",
    "from PIL import Image\n",
    "\n",
    "# Perform object detection on an image\n",
    "#model = YOLO(\"best.pt\")\n",
    "\n",
    "image_path = './yolov11-process-2025-01-08-04-47-28-958/output/train/training_data/images/train/image_0007.jpeg'\n",
    "image = Image.open(image_path)\n",
    "\n",
    "results = model(image, conf=0.25, imgsz=640)\n",
    "#results = model(\"./validation_dataset/bike.jpg\", conf=0.25, imgsz=640)\n",
    "results[0].show()\n",
    "\n",
    "# 추론 결과 출력\n",
    "print(results)\n",
    "\n",
    "# Export the model to ONNX format\n",
    "#path = model.export(format=\"onnx\")  # return path to exported model\n",
    "#print(\"export model path:\", path)\n",
    "\n"
   ]
  },
  {
   "cell_type": "markdown",
   "id": "27d5835f-e975-408f-97f1-3c47f44ba56e",
   "metadata": {},
   "source": [
    "### 4. Make inferences with the created model."
   ]
  },
  {
   "cell_type": "code",
   "execution_count": null,
   "id": "3a3dfee9-e2fc-4058-a5aa-2ffe186d4a1f",
   "metadata": {
    "tags": []
   },
   "outputs": [],
   "source": [
    "#!python yolov5/detect.py --weights runs/train/exp/weights/best.pt --img 640 --conf 0.5 --source \"\""
   ]
  },
  {
   "cell_type": "markdown",
   "id": "660fdab9-e4d8-4a76-8e0e-4ca98fbecd4c",
   "metadata": {},
   "source": [
    "| ⚠️ WARNING: Remember to shutdown the instance once finalized with this notebook to prevent unnecesary charges. Head to running Terminals and Kernels tab and shutdown the running instance. |\n",
    "| -- |"
   ]
  }
 ],
 "metadata": {
  "instance_type": "ml.g4dn.xlarge",
  "kernelspec": {
   "display_name": "Python 3 (ipykernel)",
   "language": "python",
   "name": "python3"
  },
  "language_info": {
   "codemirror_mode": {
    "name": "ipython",
    "version": 3
   },
   "file_extension": ".py",
   "mimetype": "text/x-python",
   "name": "python",
   "nbconvert_exporter": "python",
   "pygments_lexer": "ipython3",
   "version": "3.11.11"
  }
 },
 "nbformat": 4,
 "nbformat_minor": 5
}
